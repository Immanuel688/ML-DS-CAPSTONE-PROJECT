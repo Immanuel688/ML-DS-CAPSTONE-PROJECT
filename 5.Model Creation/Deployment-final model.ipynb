{
 "cells": [
  {
   "cell_type": "code",
   "execution_count": 3,
   "id": "7851c40e-a903-4bfa-8804-850e4ea4be05",
   "metadata": {},
   "outputs": [],
   "source": [
    "import pandas as pd\n",
    "import numpy as np\n",
    "import warnings\n",
    "warnings.filterwarnings('ignore')\n",
    "import joblib\n",
    "import json"
   ]
  },
  {
   "cell_type": "code",
   "execution_count": 4,
   "id": "a2c6d635-8380-429b-a4b8-60d834319d78",
   "metadata": {},
   "outputs": [],
   "source": [
    "lrc_model = joblib.load('lrc_model.pkl')\n",
    "xgb_model = joblib.load('xgb_model.pkl')"
   ]
  },
  {
   "cell_type": "code",
   "execution_count": 5,
   "id": "1a690168-19b4-494f-9adf-2b0044cdfd6c",
   "metadata": {},
   "outputs": [],
   "source": [
    "with open('blending_params.json', 'r') as f:\n",
    "    best_params = json.load(f)\n",
    "\n",
    "best_w1 = best_params['best_w1']\n",
    "best_w2 = best_params['best_w2']\n",
    "best_threshold = best_params['best_threshold']"
   ]
  },
  {
   "cell_type": "code",
   "execution_count": 6,
   "id": "824da6d8-00d1-469f-83bb-f4059db599f7",
   "metadata": {},
   "outputs": [],
   "source": [
    "sample_input=[[789.678,0.2987654,0.109823543,25,7.9865,4.675343,56,12,28,5,1678,0]]\n",
    "LRC_probs1 = lrc_model.predict_proba(sample_input)[:, 1]\n",
    "XGB_probs1 = xgb_model.predict_proba(sample_input)[:, 1]"
   ]
  },
  {
   "cell_type": "code",
   "execution_count": 7,
   "id": "5db9466b-6f8d-400a-b822-677852ca0afb",
   "metadata": {},
   "outputs": [
    {
     "data": {
      "text/plain": [
       "array([0.90852165])"
      ]
     },
     "execution_count": 7,
     "metadata": {},
     "output_type": "execute_result"
    }
   ],
   "source": [
    "final_sample_probs = (best_w1 * LRC_probs1) + (best_w2 * XGB_probs1)\n",
    "final_sample_probs"
   ]
  },
  {
   "cell_type": "code",
   "execution_count": 8,
   "id": "22411faa-2bae-4257-8e2a-5b6409114564",
   "metadata": {},
   "outputs": [
    {
     "data": {
      "text/plain": [
       "array([1])"
      ]
     },
     "execution_count": 8,
     "metadata": {},
     "output_type": "execute_result"
    }
   ],
   "source": [
    "final_sample_pred = (final_sample_probs > best_threshold).astype(int)\n",
    "final_sample_pred"
   ]
  },
  {
   "cell_type": "code",
   "execution_count": null,
   "id": "4225c4d4-9bd1-4a1e-a7b7-b12b328fbbc5",
   "metadata": {},
   "outputs": [],
   "source": []
  }
 ],
 "metadata": {
  "kernelspec": {
   "display_name": "Python 3 (ipykernel)",
   "language": "python",
   "name": "python3"
  },
  "language_info": {
   "codemirror_mode": {
    "name": "ipython",
    "version": 3
   },
   "file_extension": ".py",
   "mimetype": "text/x-python",
   "name": "python",
   "nbconvert_exporter": "python",
   "pygments_lexer": "ipython3",
   "version": "3.10.15"
  }
 },
 "nbformat": 4,
 "nbformat_minor": 5
}
